{
 "cells": [
  {
   "cell_type": "code",
   "execution_count": 1,
   "metadata": {},
   "outputs": [
    {
     "name": "stderr",
     "output_type": "stream",
     "text": [
      "'ls' 不是内部或外部命令，也不是可运行的程序\n",
      "或批处理文件。\n"
     ]
    }
   ],
   "source": [
    "# 查看当前挂载的数据集目录, 该目录下的变更重启环境后会自动还原\n",
    "# View dataset directory. This directory will be recovered automatically after resetting environment. \n",
    "!ls /home/aistudio/data"
   ]
  },
  {
   "cell_type": "code",
   "execution_count": null,
   "metadata": {},
   "outputs": [
    {
     "name": "stdout",
     "output_type": "stream",
     "text": [
      "artificialNoAnomaly    README.md       realAWSCloudwatch  realTraffic\r\n",
      "artificialWithAnomaly  realAdExchange  realKnownCause\t  realTweets\r\n"
     ]
    }
   ],
   "source": [
    "# 查看工作区文件, 该目录下的变更将会持久保存. 请及时清理不必要的文件, 避免加载过慢.\n",
    "# View personal work directory. All changes under this directory will be kept even after reset. Please clean unnecessary files in time to speed up environment loading.\n",
    "!ls /home/aistudio/work"
   ]
  },
  {
   "cell_type": "code",
   "execution_count": null,
   "metadata": {},
   "outputs": [
    {
     "name": "stdout",
     "output_type": "stream",
     "text": [
      "mkdir: cannot create directory ‘/home/aistudio/external-libraries’: File exists\n",
      "Looking in indexes: https://mirror.baidu.com/pypi/simple/\n",
      "Collecting beautifulsoup4\n",
      "\u001b[?25l  Downloading https://mirror.baidu.com/pypi/packages/d1/41/e6495bd7d3781cee623ce23ea6ac73282a373088fcd0ddc809a047b18eae/beautifulsoup4-4.9.3-py3-none-any.whl (115kB)\n",
      "\u001b[K     |████████████████████████████████| 122kB 8.3MB/s eta 0:00:01\n",
      "\u001b[?25hCollecting soupsieve>1.2; python_version >= \"3.0\" (from beautifulsoup4)\n",
      "  Downloading https://mirror.baidu.com/pypi/packages/6f/8f/457f4a5390eeae1cc3aeab89deb7724c965be841ffca6cfca9197482e470/soupsieve-2.0.1-py3-none-any.whl\n",
      "Installing collected packages: soupsieve, beautifulsoup4\n",
      "Successfully installed beautifulsoup4-4.9.3 soupsieve-2.0.1\n",
      "\u001b[33mWARNING: Target directory /home/aistudio/external-libraries/bs4 already exists. Specify --upgrade to force replacement.\u001b[0m\n",
      "\u001b[33mWARNING: Target directory /home/aistudio/external-libraries/soupsieve already exists. Specify --upgrade to force replacement.\u001b[0m\n",
      "\u001b[33mWARNING: Target directory /home/aistudio/external-libraries/beautifulsoup4-4.9.3.dist-info already exists. Specify --upgrade to force replacement.\u001b[0m\n",
      "\u001b[33mWARNING: Target directory /home/aistudio/external-libraries/soupsieve-2.0.1.dist-info already exists. Specify --upgrade to force replacement.\u001b[0m\n"
     ]
    }
   ],
   "source": [
    "# 如果需要进行持久化安装, 需要使用持久化路径, 如下方代码示例:\n",
    "# If a persistence installation is required, you need to use the persistence path as the following:\n",
    "!mkdir /home/aistudio/external-libraries\n",
    "!pip install beautifulsoup4 -t /home/aistudio/external-libraries"
   ]
  },
  {
   "cell_type": "code",
   "execution_count": null,
   "metadata": {},
   "outputs": [],
   "source": [
    "# 同时添加如下代码, 这样每次环境(kernel)启动的时候只要运行下方代码即可:\n",
    "# Also add the following code, so that every time the environment (kernel) starts, just run the following code:\n",
    "import sys\n",
    "sys.path.append('/home/aistudio/external-libraries')"
   ]
  },
  {
   "cell_type": "markdown",
   "metadata": {},
   "source": [
    "# 题目 通过AutoEncoder实现时序数据异常检测\n",
    "\n",
    "作者信息：[https://github.com/liu824](http://)\\\n",
    "创建时间：2020年10月10日10:25:53"
   ]
  },
  {
   "cell_type": "markdown",
   "metadata": {},
   "source": [
    "### 介绍\n",
    "#### 该脚本演示了如何使用重建卷积自动编码器模型来检测时间序列数据中的异常。\n",
    "#### 数据来源于Numenta Anomaly Benchmark(NAB)数据集：[https://www.kaggle.com/boltzmannbrain/nab](http://)\n",
    "#### 项目已经提供已经下载好的数据集"
   ]
  },
  {
   "cell_type": "code",
   "execution_count": null,
   "metadata": {},
   "outputs": [],
   "source": [
    "# !unzip data/data55290/archive.zip -d work/"
   ]
  },
  {
   "cell_type": "markdown",
   "metadata": {},
   "source": [
    "### 导入必要的包"
   ]
  },
  {
   "cell_type": "code",
   "execution_count": 2,
   "metadata": {},
   "outputs": [],
   "source": [
    "import numpy as np\n",
    "import pandas as pd\n",
    "import paddle.fluid as fluid\n",
    "import paddle.fluid.layers as layers\n",
    "from matplotlib import pyplot as plt\n",
    "from paddle.fluid.dygraph import Conv2D\n",
    "from paddle.fluid.dygraph.nn import Conv2DTranspose"
   ]
  },
  {
   "cell_type": "markdown",
   "metadata": {},
   "source": [
    "### 加载数据 我们将使用Numenta Anomaly Benchmark(NAB)数据集。它提供了包含标记的异常行为周期的人为时间序列数据。数据是有序的，带有时间戳的单值指标。\n",
    "\n",
    "### 我们将使用该art_daily_small_noise.csv文件进行训练，并使用该 art_daily_jumpsup.csv文件进行测试。该数据集的简单性使我们能够有效地演示异常检测。"
   ]
  },
  {
   "cell_type": "code",
   "execution_count": 3,
   "metadata": {},
   "outputs": [],
   "source": [
    "master_url_root = \"E:/Mycode/data/archive/\"\n",
    "\n",
    "df_small_noise_url_suffix = \"artificialNoAnomaly/artificialNoAnomaly/art_daily_small_noise.csv\"\n",
    "df_small_noise_url = master_url_root + df_small_noise_url_suffix\n",
    "df_small_noise = pd.read_csv(\n",
    "    df_small_noise_url, parse_dates=True, index_col=\"timestamp\"\n",
    ")\n",
    "\n",
    "df_daily_jumpsup_url_suffix = \"artificialWithAnomaly/artificialWithAnomaly/art_daily_jumpsup.csv\"\n",
    "df_daily_jumpsup_url = master_url_root + df_daily_jumpsup_url_suffix\n",
    "df_daily_jumpsup = pd.read_csv(\n",
    "    df_daily_jumpsup_url, parse_dates=True, index_col=\"timestamp\"\n",
    ")"
   ]
  },
  {
   "cell_type": "markdown",
   "metadata": {},
   "source": [
    "### 快速查看数据"
   ]
  },
  {
   "cell_type": "code",
   "execution_count": 4,
   "metadata": {},
   "outputs": [
    {
     "name": "stdout",
     "output_type": "stream",
     "text": [
      "                         value\n",
      "timestamp                     \n",
      "2014-04-01 00:00:00  18.324919\n",
      "2014-04-01 00:05:00  21.970327\n",
      "2014-04-01 00:10:00  18.624806\n",
      "2014-04-01 00:15:00  21.953684\n",
      "2014-04-01 00:20:00  21.909120\n",
      "                         value\n",
      "timestamp                     \n",
      "2014-04-01 00:00:00  19.761252\n",
      "2014-04-01 00:05:00  20.500833\n",
      "2014-04-01 00:10:00  19.961641\n",
      "2014-04-01 00:15:00  21.490266\n",
      "2014-04-01 00:20:00  20.187739\n"
     ]
    }
   ],
   "source": [
    "print(df_small_noise.head())\n",
    "\n",
    "print(df_daily_jumpsup.head())"
   ]
  },
  {
   "cell_type": "markdown",
   "metadata": {},
   "source": [
    "### 可视化数据 时间序列数据无异常 我们将使用以下数据进行训练"
   ]
  },
  {
   "cell_type": "code",
   "execution_count": 5,
   "metadata": {},
   "outputs": [
    {
     "name": "stderr",
     "output_type": "stream",
     "text": [
      "2020-10-11 22:04:46,883-INFO: Note: NumExpr detected 12 cores but \"NUMEXPR_MAX_THREADS\" not set, so enforcing safe limit of 8.\n"
     ]
    },
    {
     "data": {
      "image/png": "[encoded data removed]",
      "text/plain": [
       "<Figure size 432x288 with 1 Axes>"
      ]
     },
     "metadata": {
      "needs_background": "light"
     },
     "output_type": "display_data"
    }
   ],
   "source": [
    "fig, ax = plt.subplots()\n",
    "df_small_noise.plot(legend=False, ax=ax)\n",
    "plt.show()"
   ]
  },
  {
   "cell_type": "markdown",
   "metadata": {},
   "source": [
    "### 时间序列数据异常 我们将使用以下数据进行测试，并查看数据中突然跳升是否被检测为异常"
   ]
  },
  {
   "cell_type": "code",
   "execution_count": 6,
   "metadata": {},
   "outputs": [
    {
     "data": {
      "image/png": "[encoded data removed]",
      "text/plain": [
       "<Figure size 432x288 with 1 Axes>"
      ]
     },
     "metadata": {
      "needs_background": "light"
     },
     "output_type": "display_data"
    }
   ],
   "source": [
    "fig, ax = plt.subplots()\n",
    "df_daily_jumpsup.plot(legend=False, ax=ax)\n",
    "plt.show()"
   ]
  },
  {
   "cell_type": "markdown",
   "metadata": {},
   "source": [
    "### 准备训练数据\n",
    "### 从training timeseries数据文件中获取数据值，并对值数据进行规范化。我们有一个14天内每天5分钟的值。\n",
    " 24 * 60 / 5 = 288 timesteps per day\\\n",
    " 288 * 14 = 4032 data points in total"
   ]
  },
  {
   "cell_type": "code",
   "execution_count": 7,
   "metadata": {},
   "outputs": [
    {
     "name": "stdout",
     "output_type": "stream",
     "text": [
      "Number of training samples: 4032\n"
     ]
    }
   ],
   "source": [
    "# Normalize and save the mean and std we get,\n",
    "# for normalizing test data.\n",
    "training_mean = df_small_noise.mean()\n",
    "training_std = df_small_noise.std()\n",
    "df_training_value = (df_small_noise - training_mean) / training_std\n",
    "print(\"Number of training samples:\", len(df_training_value))"
   ]
  },
  {
   "cell_type": "markdown",
   "metadata": {},
   "source": [
    "### 创建序列 创建结合TIME_STEPS训练数据中的连续数据值的序列。时间滑窗"
   ]
  },
  {
   "cell_type": "code",
   "execution_count": 8,
   "metadata": {},
   "outputs": [
    {
     "name": "stdout",
     "output_type": "stream",
     "text": [
      "Training input shape:  (3744, 288, 1)\n"
     ]
    }
   ],
   "source": [
    "TIME_STEPS = 288\n",
    "\n",
    "# Generated training sequences for use in the model.\n",
    "def create_sequences(values, time_steps=TIME_STEPS):\n",
    "    output = []\n",
    "    for i in range(len(values) - time_steps):\n",
    "        output.append(values[i : (i + time_steps)])\n",
    "    return np.stack(output)\n",
    "\n",
    "\n",
    "x_train = create_sequences(df_training_value.values)\n",
    "print(\"Training input shape: \", x_train.shape)"
   ]
  },
  {
   "cell_type": "markdown",
   "metadata": {},
   "source": [
    "### 创建data_generete()"
   ]
  },
  {
   "cell_type": "code",
   "execution_count": 9,
   "metadata": {},
   "outputs": [
    {
     "name": "stdout",
     "output_type": "stream",
     "text": [
      "0 128 (288, 1)\n",
      "1 128 (288, 1)\n",
      "2 128 (288, 1)\n",
      "3 128 (288, 1)\n",
      "4 128 (288, 1)\n",
      "5 128 (288, 1)\n",
      "6 128 (288, 1)\n",
      "7 128 (288, 1)\n",
      "8 128 (288, 1)\n",
      "9 128 (288, 1)\n",
      "10 128 (288, 1)\n",
      "11 128 (288, 1)\n",
      "12 128 (288, 1)\n",
      "13 128 (288, 1)\n",
      "14 128 (288, 1)\n",
      "15 128 (288, 1)\n",
      "16 128 (288, 1)\n",
      "17 128 (288, 1)\n",
      "18 128 (288, 1)\n",
      "19 128 (288, 1)\n",
      "20 128 (288, 1)\n",
      "21 128 (288, 1)\n",
      "22 128 (288, 1)\n",
      "23 128 (288, 1)\n",
      "24 128 (288, 1)\n",
      "25 128 (288, 1)\n",
      "26 128 (288, 1)\n",
      "27 128 (288, 1)\n",
      "28 128 (288, 1)\n",
      "29 32 (288, 1)\n"
     ]
    }
   ],
   "source": [
    "import paddle.fluid as fluid\n",
    "\n",
    "def data_generete():\n",
    "    for i in x_train:\n",
    "        yield i\n",
    "\n",
    "batch_reader = fluid.io.batch(data_generete, batch_size=128)\n",
    "\n",
    "for id,data in enumerate(batch_reader()):\n",
    "    print(id,len(data),data[0].shape)\n"
   ]
  },
  {
   "cell_type": "markdown",
   "metadata": {},
   "source": [
    "### 建立模型 我们将建立卷积重建自动编码器模型。该模型将接受形状的输入，(batch_size, sequence_length, num_features)并返回相同形状的输出。在这种情况下，sequence_length288 num_features为1。"
   ]
  },
  {
   "cell_type": "code",
   "execution_count": 10,
   "metadata": {},
   "outputs": [],
   "source": [
    "#飞桨中并没有1x1的卷积，下面是1x1卷积的实现方法，按照原代码每次squeeze之后会接unsqueeze,\n",
    "#其实每次输入并不需要进行这么多多余的操作，因此在网络中并没有使用Conv1D，Conv1DTranspose,在此附上仅供参考\n",
    "def Conv1D(input,num_filters,filter_size,stride,padding):\n",
    "    y=layers.unsqueeze(input,axes=[0])\n",
    "    y=layers.conv2d(y, num_filters, filter_size, stride, padding)\n",
    "    y=layers.squeeze(y,axes=[0,3])\n",
    "    return y\n",
    "def Conv1DTranspose(input,num_filters,filter_size,stride,padding):\n",
    "    y=layers.unsqueeze(input,axes=[0])\n",
    "    y=layers.conv2d(y, num_filters, filter_size, stride, padding)\n",
    "    y=layers.squeeze(y,axes=[0,3])\n",
    "    return y\n",
    "\n",
    "class MyModel(fluid.dygraph.Layer):\n",
    "    def __init__(self):\n",
    "        super(MyModel,self).__init__()\n",
    "        self.conv1=Conv2D(num_channels=1,num_filters=32,filter_size=(7,1),stride=(2,1),padding=(3,0),act='relu')\n",
    "        self.conv2=Conv2D(num_channels=32,num_filters=16,filter_size=(7,1),stride=(2,1),padding=(3,0),act='relu')\n",
    "        self.conv2dtranspose1=Conv2DTranspose(num_channels=16,num_filters=16,filter_size=(6,1),stride=(2,1),padding=(2,0),act='relu')#paddle中没有padding='same'，为了输出对齐我对filter_size和padding进行了调整\n",
    "        self.conv2dtranspose2=Conv2DTranspose(num_channels=16,num_filters=32,filter_size=(6,1),stride=(2,1),padding=(2,0),act='relu')#paddle中没有padding='same'，为了输出对齐我对filter_size和padding进行了调整\n",
    "        self.conv2dtranspose3=Conv2DTranspose(num_channels=32,num_filters=1,filter_size=(7,1),stride=(1,1),padding=(3,0))\n",
    "    def forward(self,input):\n",
    "        y=layers.unsqueeze(input,axes=[1])\n",
    "        y=self.conv1(y)\n",
    "        y=layers.dropout(y, dropout_prob=0.2)\n",
    "        y=self.conv2(y)\n",
    "        y=self.conv2dtranspose1(y)\n",
    "        y=layers.dropout(y, dropout_prob=0.2)\n",
    "        y=self.conv2dtranspose2(y)\n",
    "        y=self.conv2dtranspose3(y)\n",
    "        y=layers.squeeze(input=y,axes=[1])\n",
    "        return y\n"
   ]
  },
  {
   "cell_type": "markdown",
   "metadata": {},
   "source": [
    "### 定义绘图函数"
   ]
  },
  {
   "cell_type": "code",
   "execution_count": 11,
   "metadata": {},
   "outputs": [],
   "source": [
    "Batch=0\n",
    "Batchs=[]\n",
    "all_train_loss=[]\n",
    "def draw_train_loss(Batchs, train_loss):\n",
    "    title=\"training loss\"\n",
    "    plt.title(title, fontsize=24)\n",
    "    plt.xlabel(\"batch\", fontsize=14)\n",
    "    plt.ylabel(\"loss\", fontsize=14)\n",
    "    plt.plot(Batchs, train_loss, color='red', label='training loss')\n",
    "    plt.legend()\n",
    "    plt.grid()\n",
    "    plt.show()"
   ]
  },
  {
   "cell_type": "markdown",
   "metadata": {},
   "source": [
    "### 模型训练"
   ]
  },
  {
   "cell_type": "code",
   "execution_count": 12,
   "metadata": {},
   "outputs": [
    {
     "name": "stdout",
     "output_type": "stream",
     "text": [
      "epoch:0,batch_id:29,train_loss:[0.12090594]\n",
      "epoch:1,batch_id:29,train_loss:[0.05665541]\n",
      "epoch:2,batch_id:29,train_loss:[0.04587549]\n",
      "epoch:3,batch_id:29,train_loss:[0.03503494]\n",
      "epoch:4,batch_id:29,train_loss:[0.0334719]\n",
      "epoch:5,batch_id:29,train_loss:[0.03172474]\n",
      "epoch:6,batch_id:29,train_loss:[0.0283282]\n",
      "epoch:7,batch_id:29,train_loss:[0.0244086]\n",
      "epoch:8,batch_id:29,train_loss:[0.0246064]\n",
      "epoch:9,batch_id:29,train_loss:[0.02337067]\n",
      "epoch:10,batch_id:29,train_loss:[0.02177452]\n",
      "epoch:11,batch_id:29,train_loss:[0.02010795]\n",
      "epoch:12,batch_id:29,train_loss:[0.01960745]\n",
      "epoch:13,batch_id:29,train_loss:[0.01774275]\n",
      "epoch:14,batch_id:29,train_loss:[0.01685415]\n",
      "epoch:15,batch_id:29,train_loss:[0.0161995]\n",
      "epoch:16,batch_id:29,train_loss:[0.01633835]\n",
      "epoch:17,batch_id:29,train_loss:[0.01490983]\n",
      "epoch:18,batch_id:29,train_loss:[0.01431551]\n",
      "epoch:19,batch_id:29,train_loss:[0.01331822]\n",
      "epoch:20,batch_id:29,train_loss:[0.01357787]\n",
      "epoch:21,batch_id:29,train_loss:[0.01308259]\n",
      "epoch:22,batch_id:29,train_loss:[0.01316479]\n",
      "epoch:23,batch_id:29,train_loss:[0.01203318]\n",
      "epoch:24,batch_id:29,train_loss:[0.01207456]\n",
      "epoch:25,batch_id:29,train_loss:[0.01143448]\n",
      "epoch:26,batch_id:29,train_loss:[0.01146862]\n",
      "epoch:27,batch_id:29,train_loss:[0.01154923]\n",
      "epoch:28,batch_id:29,train_loss:[0.01085714]\n",
      "epoch:29,batch_id:29,train_loss:[0.01044221]\n",
      "epoch:30,batch_id:29,train_loss:[0.01027695]\n",
      "epoch:31,batch_id:29,train_loss:[0.01010144]\n",
      "epoch:32,batch_id:29,train_loss:[0.01026654]\n",
      "epoch:33,batch_id:29,train_loss:[0.00935993]\n",
      "epoch:34,batch_id:29,train_loss:[0.00956429]\n",
      "epoch:35,batch_id:29,train_loss:[0.00945648]\n",
      "epoch:36,batch_id:29,train_loss:[0.00897939]\n",
      "epoch:37,batch_id:29,train_loss:[0.00853243]\n",
      "epoch:38,batch_id:29,train_loss:[0.00842766]\n",
      "epoch:39,batch_id:29,train_loss:[0.00850978]\n",
      "epoch:40,batch_id:29,train_loss:[0.00832559]\n",
      "epoch:41,batch_id:29,train_loss:[0.00788967]\n",
      "epoch:42,batch_id:29,train_loss:[0.00815368]\n",
      "epoch:43,batch_id:29,train_loss:[0.00800041]\n",
      "epoch:44,batch_id:29,train_loss:[0.00776342]\n",
      "epoch:45,batch_id:29,train_loss:[0.00787672]\n",
      "epoch:46,batch_id:29,train_loss:[0.00728858]\n",
      "epoch:47,batch_id:29,train_loss:[0.00744564]\n",
      "epoch:48,batch_id:29,train_loss:[0.0073268]\n",
      "epoch:49,batch_id:29,train_loss:[0.00697528]\n",
      "Final loss: [0.00697528]\n"
     ]
    },
    {
     "data": {
      "image/png": "[encoded data removed]",
      "text/plain": [
       "<Figure size 432x288 with 1 Axes>"
      ]
     },
     "metadata": {
      "needs_background": "light"
     },
     "output_type": "display_data"
    }
   ],
   "source": [
    "place = fluid.CUDAPlace(0) \n",
    "with fluid.dygraph.guard(place):\n",
    "    model=MyModel() #模型实例化\n",
    "    model.train() #训练模式\n",
    "    # opt=fluid.optimizer.SGDOptimizer(learning_rate=train_parameters['learning_strategy']['lr'], parameter_list=model.parameters())#优化器选用SGD随机梯度下降，学习率为0.001.\n",
    "    opt=fluid.optimizer.AdamOptimizer(learning_rate=0.001, parameter_list=model.parameters()) \n",
    "    epochs_num=50#迭代次数\n",
    "    batch_reader = fluid.io.batch(data_generete, batch_size=128)\n",
    "    for pass_num in range(epochs_num):\n",
    "        for batch_id, data in enumerate(batch_reader()): \n",
    "            x_data = np.array(data).astype('float32')\n",
    "            y_data = np.array(data).astype('float32')\n",
    "            \n",
    "            x_data = fluid.dygraph.to_variable(x_data)\n",
    "            y_data = fluid.dygraph.to_variable(y_data)\n",
    "      \n",
    "            # print(x_data.shape, y_data.shape)\n",
    "\n",
    "            predict=model(x_data)\n",
    "            # print(predict.shape)\n",
    "            loss=fluid.layers.mse_loss(predict,y_data)\n",
    "            avg_loss=fluid.layers.mean(loss)#获取loss值\n",
    "            avg_loss.backward()       \n",
    "            opt.minimize(avg_loss)    #优化器对象的minimize方法对参数进行更新 \n",
    "            model.clear_gradients()   #model.clear_gradients()来重置梯度\n",
    "            if batch_id!=0 and batch_id%10==0:\n",
    "                Batch = Batch+10 \n",
    "                Batchs.append(Batch)\n",
    "                all_train_loss.append(avg_loss.numpy()[0])\n",
    "        print(\"epoch:{},batch_id:{},train_loss:{}\".format(pass_num,batch_id,avg_loss.numpy()))     \n",
    "\n",
    "    fluid.save_dygraph(model.state_dict(),'MyModel')#保存模型\n",
    "    fluid.save_dygraph(opt.state_dict(),'MyModel')#保存模型\n",
    "    print(\"Final loss: {}\".format(avg_loss.numpy()))    \n",
    "#让我们绘制训练图和验证损失图，以了解训练的进行情况。     \n",
    "draw_train_loss(Batchs,all_train_loss)"
   ]
  },
  {
   "cell_type": "markdown",
   "metadata": {},
   "source": [
    "### 让我们绘制训练图和验证损失图，以了解训练的进行情况。"
   ]
  },
  {
   "cell_type": "code",
   "execution_count": 13,
   "metadata": {},
   "outputs": [
    {
     "data": {
      "image/png": "[encoded data removed]",
      "text/plain": [
       "<Figure size 432x288 with 1 Axes>"
      ]
     },
     "metadata": {
      "needs_background": "light"
     },
     "output_type": "display_data"
    }
   ],
   "source": [
    "draw_train_loss(Batchs,all_train_loss)"
   ]
  },
  {
   "cell_type": "markdown",
   "metadata": {},
   "source": [
    "### 检测异常\n",
    "我们将通过确定模型重构输入数据的程度来检测异常。\n",
    "\n",
    "在训练样本上找到MAE损失。\n",
    "查找最大MAE损失值。这是我们的模型在尝试重建样本时执行的最糟糕的情况。我们将其threshold用于异常检测。\n",
    "如果样本的重建损失大于该threshold 值，那么我们可以推断出该模型正在看到它不熟悉的模式。我们将此样品标记为anomaly。"
   ]
  },
  {
   "cell_type": "code",
   "execution_count": 14,
   "metadata": {},
   "outputs": [
    {
     "name": "stdout",
     "output_type": "stream",
     "text": [
      "batch:0 is ok\n",
      "batch:10 is ok\n",
      "batch:20 is ok\n",
      "batch:30 is ok\n",
      "batch:40 is ok\n",
      "batch:50 is ok\n",
      "batch:60 is ok\n",
      "batch:70 is ok\n",
      "batch:80 is ok\n",
      "batch:90 is ok\n",
      "batch:100 is ok\n",
      "batch:110 is ok\n",
      "batch:120 is ok\n",
      "batch:130 is ok\n",
      "batch:140 is ok\n",
      "batch:150 is ok\n",
      "batch:160 is ok\n",
      "batch:170 is ok\n",
      "batch:180 is ok\n",
      "batch:190 is ok\n",
      "batch:200 is ok\n",
      "batch:210 is ok\n",
      "batch:220 is ok\n",
      "batch:230 is ok\n",
      "batch:240 is ok\n",
      "batch:250 is ok\n",
      "batch:260 is ok\n",
      "batch:270 is ok\n",
      "batch:280 is ok\n",
      "batch:290 is ok\n",
      "batch:300 is ok\n",
      "batch:310 is ok\n",
      "batch:320 is ok\n",
      "batch:330 is ok\n",
      "batch:340 is ok\n",
      "batch:350 is ok\n",
      "batch:360 is ok\n",
      "batch:370 is ok\n",
      "batch:380 is ok\n",
      "batch:390 is ok\n",
      "batch:400 is ok\n",
      "batch:410 is ok\n",
      "batch:420 is ok\n",
      "batch:430 is ok\n",
      "batch:440 is ok\n",
      "batch:450 is ok\n",
      "batch:460 is ok\n",
      "batch:470 is ok\n",
      "batch:480 is ok\n",
      "batch:490 is ok\n",
      "batch:500 is ok\n",
      "batch:510 is ok\n",
      "batch:520 is ok\n",
      "batch:530 is ok\n",
      "batch:540 is ok\n",
      "batch:550 is ok\n",
      "batch:560 is ok\n",
      "batch:570 is ok\n",
      "batch:580 is ok\n",
      "batch:590 is ok\n",
      "batch:600 is ok\n",
      "batch:610 is ok\n",
      "batch:620 is ok\n",
      "batch:630 is ok\n",
      "batch:640 is ok\n",
      "batch:650 is ok\n",
      "batch:660 is ok\n",
      "batch:670 is ok\n",
      "batch:680 is ok\n",
      "batch:690 is ok\n",
      "batch:700 is ok\n",
      "batch:710 is ok\n",
      "batch:720 is ok\n",
      "batch:730 is ok\n",
      "batch:740 is ok\n",
      "batch:750 is ok\n",
      "batch:760 is ok\n",
      "batch:770 is ok\n",
      "batch:780 is ok\n",
      "batch:790 is ok\n",
      "batch:800 is ok\n",
      "batch:810 is ok\n",
      "batch:820 is ok\n",
      "batch:830 is ok\n",
      "batch:840 is ok\n",
      "batch:850 is ok\n",
      "batch:860 is ok\n",
      "batch:870 is ok\n",
      "batch:880 is ok\n",
      "batch:890 is ok\n",
      "batch:900 is ok\n",
      "batch:910 is ok\n",
      "batch:920 is ok\n",
      "batch:930 is ok\n",
      "batch:940 is ok\n",
      "batch:950 is ok\n",
      "batch:960 is ok\n",
      "batch:970 is ok\n",
      "batch:980 is ok\n",
      "batch:990 is ok\n",
      "batch:1000 is ok\n",
      "batch:1010 is ok\n",
      "batch:1020 is ok\n",
      "batch:1030 is ok\n",
      "batch:1040 is ok\n",
      "batch:1050 is ok\n",
      "batch:1060 is ok\n",
      "batch:1070 is ok\n",
      "batch:1080 is ok\n",
      "batch:1090 is ok\n",
      "batch:1100 is ok\n",
      "batch:1110 is ok\n",
      "batch:1120 is ok\n",
      "batch:1130 is ok\n",
      "batch:1140 is ok\n",
      "batch:1150 is ok\n",
      "batch:1160 is ok\n",
      "batch:1170 is ok\n",
      "batch:1180 is ok\n",
      "batch:1190 is ok\n",
      "batch:1200 is ok\n",
      "batch:1210 is ok\n",
      "batch:1220 is ok\n",
      "batch:1230 is ok\n",
      "batch:1240 is ok\n",
      "batch:1250 is ok\n",
      "batch:1260 is ok\n",
      "batch:1270 is ok\n",
      "batch:1280 is ok\n",
      "batch:1290 is ok\n",
      "batch:1300 is ok\n",
      "batch:1310 is ok\n",
      "batch:1320 is ok\n",
      "batch:1330 is ok\n",
      "batch:1340 is ok\n",
      "batch:1350 is ok\n",
      "batch:1360 is ok\n",
      "batch:1370 is ok\n",
      "batch:1380 is ok\n",
      "batch:1390 is ok\n",
      "batch:1400 is ok\n",
      "batch:1410 is ok\n",
      "batch:1420 is ok\n",
      "batch:1430 is ok\n",
      "batch:1440 is ok\n",
      "batch:1450 is ok\n",
      "batch:1460 is ok\n",
      "batch:1470 is ok\n",
      "batch:1480 is ok\n",
      "batch:1490 is ok\n",
      "batch:1500 is ok\n",
      "batch:1510 is ok\n",
      "batch:1520 is ok\n",
      "batch:1530 is ok\n",
      "batch:1540 is ok\n",
      "batch:1550 is ok\n",
      "batch:1560 is ok\n",
      "batch:1570 is ok\n",
      "batch:1580 is ok\n",
      "batch:1590 is ok\n",
      "batch:1600 is ok\n",
      "batch:1610 is ok\n",
      "batch:1620 is ok\n",
      "batch:1630 is ok\n",
      "batch:1640 is ok\n",
      "batch:1650 is ok\n",
      "batch:1660 is ok\n",
      "batch:1670 is ok\n",
      "batch:1680 is ok\n",
      "batch:1690 is ok\n",
      "batch:1700 is ok\n",
      "batch:1710 is ok\n",
      "batch:1720 is ok\n",
      "batch:1730 is ok\n",
      "batch:1740 is ok\n",
      "batch:1750 is ok\n",
      "batch:1760 is ok\n",
      "batch:1770 is ok\n",
      "batch:1780 is ok\n",
      "batch:1790 is ok\n",
      "batch:1800 is ok\n",
      "batch:1810 is ok\n",
      "batch:1820 is ok\n",
      "batch:1830 is ok\n",
      "batch:1840 is ok\n",
      "batch:1850 is ok\n",
      "batch:1860 is ok\n",
      "batch:1870 is ok\n",
      "batch:1880 is ok\n",
      "batch:1890 is ok\n",
      "batch:1900 is ok\n",
      "batch:1910 is ok\n",
      "batch:1920 is ok\n",
      "batch:1930 is ok\n",
      "batch:1940 is ok\n",
      "batch:1950 is ok\n",
      "batch:1960 is ok\n",
      "batch:1970 is ok\n",
      "batch:1980 is ok\n",
      "batch:1990 is ok\n",
      "batch:2000 is ok\n",
      "batch:2010 is ok\n",
      "batch:2020 is ok\n",
      "batch:2030 is ok\n",
      "batch:2040 is ok\n",
      "batch:2050 is ok\n",
      "batch:2060 is ok\n",
      "batch:2070 is ok\n",
      "batch:2080 is ok\n",
      "batch:2090 is ok\n",
      "batch:2100 is ok\n",
      "batch:2110 is ok\n",
      "batch:2120 is ok\n",
      "batch:2130 is ok\n",
      "batch:2140 is ok\n",
      "batch:2150 is ok\n",
      "batch:2160 is ok\n",
      "batch:2170 is ok\n",
      "batch:2180 is ok\n",
      "batch:2190 is ok\n",
      "batch:2200 is ok\n",
      "batch:2210 is ok\n",
      "batch:2220 is ok\n",
      "batch:2230 is ok\n",
      "batch:2240 is ok\n",
      "batch:2250 is ok\n",
      "batch:2260 is ok\n",
      "batch:2270 is ok\n",
      "batch:2280 is ok\n",
      "batch:2290 is ok\n",
      "batch:2300 is ok\n",
      "batch:2310 is ok\n",
      "batch:2320 is ok\n",
      "batch:2330 is ok\n",
      "batch:2340 is ok\n",
      "batch:2350 is ok\n",
      "batch:2360 is ok\n",
      "batch:2370 is ok\n",
      "batch:2380 is ok\n",
      "batch:2390 is ok\n",
      "batch:2400 is ok\n",
      "batch:2410 is ok\n",
      "batch:2420 is ok\n",
      "batch:2430 is ok\n",
      "batch:2440 is ok\n",
      "batch:2450 is ok\n",
      "batch:2460 is ok\n",
      "batch:2470 is ok\n",
      "batch:2480 is ok\n",
      "batch:2490 is ok\n",
      "batch:2500 is ok\n",
      "batch:2510 is ok\n",
      "batch:2520 is ok\n",
      "batch:2530 is ok\n",
      "batch:2540 is ok\n",
      "batch:2550 is ok\n",
      "batch:2560 is ok\n",
      "batch:2570 is ok\n",
      "batch:2580 is ok\n",
      "batch:2590 is ok\n",
      "batch:2600 is ok\n",
      "batch:2610 is ok\n",
      "batch:2620 is ok\n",
      "batch:2630 is ok\n",
      "batch:2640 is ok\n",
      "batch:2650 is ok\n",
      "batch:2660 is ok\n",
      "batch:2670 is ok\n",
      "batch:2680 is ok\n",
      "batch:2690 is ok\n",
      "batch:2700 is ok\n",
      "batch:2710 is ok\n",
      "batch:2720 is ok\n",
      "batch:2730 is ok\n",
      "batch:2740 is ok\n",
      "batch:2750 is ok\n",
      "batch:2760 is ok\n",
      "batch:2770 is ok\n",
      "batch:2780 is ok\n",
      "batch:2790 is ok\n",
      "batch:2800 is ok\n",
      "batch:2810 is ok\n",
      "batch:2820 is ok\n",
      "batch:2830 is ok\n",
      "batch:2840 is ok\n",
      "batch:2850 is ok\n",
      "batch:2860 is ok\n",
      "batch:2870 is ok\n",
      "batch:2880 is ok\n",
      "batch:2890 is ok\n",
      "batch:2900 is ok\n",
      "batch:2910 is ok\n",
      "batch:2920 is ok\n",
      "batch:2930 is ok\n",
      "batch:2940 is ok\n",
      "batch:2950 is ok\n",
      "batch:2960 is ok\n",
      "batch:2970 is ok\n",
      "batch:2980 is ok\n",
      "batch:2990 is ok\n",
      "batch:3000 is ok\n",
      "batch:3010 is ok\n",
      "batch:3020 is ok\n",
      "batch:3030 is ok\n",
      "batch:3040 is ok\n",
      "batch:3050 is ok\n",
      "batch:3060 is ok\n",
      "batch:3070 is ok\n",
      "batch:3080 is ok\n",
      "batch:3090 is ok\n",
      "batch:3100 is ok\n",
      "batch:3110 is ok\n",
      "batch:3120 is ok\n",
      "batch:3130 is ok\n",
      "batch:3140 is ok\n",
      "batch:3150 is ok\n",
      "batch:3160 is ok\n",
      "batch:3170 is ok\n",
      "batch:3180 is ok\n",
      "batch:3190 is ok\n",
      "batch:3200 is ok\n",
      "batch:3210 is ok\n",
      "batch:3220 is ok\n",
      "batch:3230 is ok\n",
      "batch:3240 is ok\n",
      "batch:3250 is ok\n",
      "batch:3260 is ok\n",
      "batch:3270 is ok\n",
      "batch:3280 is ok\n",
      "batch:3290 is ok\n",
      "batch:3300 is ok\n",
      "batch:3310 is ok\n",
      "batch:3320 is ok\n",
      "batch:3330 is ok\n",
      "batch:3340 is ok\n",
      "batch:3350 is ok\n",
      "batch:3360 is ok\n",
      "batch:3370 is ok\n",
      "batch:3380 is ok\n",
      "batch:3390 is ok\n",
      "batch:3400 is ok\n",
      "batch:3410 is ok\n",
      "batch:3420 is ok\n",
      "batch:3430 is ok\n",
      "batch:3440 is ok\n",
      "batch:3450 is ok\n",
      "batch:3460 is ok\n",
      "batch:3470 is ok\n",
      "batch:3480 is ok\n",
      "batch:3490 is ok\n",
      "batch:3500 is ok\n",
      "batch:3510 is ok\n",
      "batch:3520 is ok\n",
      "batch:3530 is ok\n",
      "batch:3540 is ok\n",
      "batch:3550 is ok\n",
      "batch:3560 is ok\n",
      "batch:3570 is ok\n",
      "batch:3580 is ok\n",
      "batch:3590 is ok\n",
      "batch:3600 is ok\n",
      "batch:3610 is ok\n",
      "batch:3620 is ok\n",
      "batch:3630 is ok\n",
      "batch:3640 is ok\n",
      "batch:3650 is ok\n",
      "batch:3660 is ok\n",
      "batch:3670 is ok\n",
      "batch:3680 is ok\n",
      "batch:3690 is ok\n",
      "batch:3700 is ok\n",
      "batch:3710 is ok\n",
      "batch:3720 is ok\n",
      "batch:3730 is ok\n",
      "batch:3740 is ok\n"
     ]
    },
    {
     "data": {
      "image/png": "[encoded data removed]",
      "text/plain": [
       "<Figure size 432x288 with 1 Axes>"
      ]
     },
     "metadata": {
      "needs_background": "light"
     },
     "output_type": "display_data"
    },
    {
     "name": "stdout",
     "output_type": "stream",
     "text": [
      "Reconstruction error threshold:  0.022722887\n"
     ]
    }
   ],
   "source": [
    "#模型评估\n",
    "with fluid.dygraph.guard():\n",
    "    accs = []\n",
    "    model_dict, _ = fluid.load_dygraph('MyModel')\n",
    "    # model = MyDNN()\n",
    "    model=MyModel()\n",
    "    model.load_dict(model_dict) #加载模型参数\n",
    "    train_mae_loss=[]\n",
    "    batch_reader = fluid.io.batch(data_generete, batch_size=1)\n",
    "    for batch_id, data in enumerate(batch_reader()):\n",
    "        x_data = np.array(data).astype('float32')\n",
    "        x_data = fluid.dygraph.to_variable(x_data)\n",
    "        x_train_pred=model(x_data)\n",
    "        loss=fluid.layers.mse_loss(x_train_pred,x_data)\n",
    "        mae_loss=fluid.layers.mean(loss)#获取loss值\n",
    "        # train_mae_loss = np.mean(np.abs(x_train_pred - x_data), axis=1)\n",
    "        train_mae_loss.append(mae_loss.numpy()[0])\n",
    "        # print(train_mae_loss.numpy()[0])\n",
    "        if batch_id%10==0:\n",
    "            print(\"batch:{} is ok\".format(batch_id))\n",
    "    train_mae_loss=np.reshape(np.array(train_mae_loss),(np.array(train_mae_loss).shape[0],1))\n",
    "    plt.hist(train_mae_loss, bins=50)\n",
    "    plt.xlabel(\"Train MAE loss\")\n",
    "    plt.ylabel(\"No of samples\")\n",
    "    plt.show()\n",
    "\n",
    "    # Get reconstruction loss threshold.\n",
    "    threshold = np.max(train_mae_loss)\n",
    "    print(\"Reconstruction error threshold: \", threshold)   \n",
    "\n",
    "\n"
   ]
  },
  {
   "cell_type": "code",
   "execution_count": 15,
   "metadata": {},
   "outputs": [
    {
     "data": {
      "image/png": "[encoded data removed]",
      "text/plain": [
       "<Figure size 432x288 with 1 Axes>"
      ]
     },
     "metadata": {
      "needs_background": "light"
     },
     "output_type": "display_data"
    }
   ],
   "source": [
    "# Checking how the first sequence is learnt\n",
    "plt.plot(x_train[0])\n",
    "plt.plot(x_train_pred.numpy()[0])\n",
    "plt.show()"
   ]
  },
  {
   "cell_type": "markdown",
   "metadata": {},
   "source": [
    "### 准备测试数据"
   ]
  },
  {
   "cell_type": "code",
   "execution_count": 16,
   "metadata": {},
   "outputs": [
    {
     "data": {
      "image/png": "[encoded data removed]",
      "text/plain": [
       "<Figure size 432x288 with 1 Axes>"
      ]
     },
     "metadata": {
      "needs_background": "light"
     },
     "output_type": "display_data"
    },
    {
     "name": "stdout",
     "output_type": "stream",
     "text": [
      "Test input shape:  (3744, 288, 1)\n"
     ]
    },
    {
     "data": {
      "image/png": "[encoded data removed]",
      "text/plain": [
       "<Figure size 432x288 with 1 Axes>"
      ]
     },
     "metadata": {
      "needs_background": "light"
     },
     "output_type": "display_data"
    },
    {
     "name": "stdout",
     "output_type": "stream",
     "text": [
      "Number of anomaly samples:  389\n",
      "Indices of anomaly samples:  (array([2701, 2702, 2703, 2705, 2707, 2710, 2711, 2712, 2713, 2714, 2715,\n",
      "       2716, 2717, 2718, 2719, 2720, 2721, 2722, 2723, 2724, 2725, 2726,\n",
      "       2727, 2728, 2729, 2730, 2731, 2732, 2733, 2734, 2735, 2736, 2737,\n",
      "       2738, 2739, 2740, 2741, 2742, 2743, 2744, 2745, 2746, 2747, 2748,\n",
      "       2749, 2750, 2751, 2752, 2753, 2754, 2755, 2756, 2757, 2758, 2759,\n",
      "       2760, 2761, 2762, 2763, 2764, 2765, 2766, 2767, 2768, 2769, 2770,\n",
      "       2771, 2772, 2773, 2774, 2775, 2776, 2777, 2778, 2779, 2780, 2781,\n",
      "       2782, 2783, 2784, 2785, 2786, 2787, 2788, 2789, 2790, 2791, 2792,\n",
      "       2793, 2794, 2795, 2796, 2797, 2798, 2799, 2800, 2801, 2802, 2803,\n",
      "       2804, 2805, 2806, 2807, 2808, 2809, 2810, 2811, 2812, 2813, 2814,\n",
      "       2815, 2816, 2817, 2818, 2819, 2820, 2821, 2822, 2823, 2824, 2825,\n",
      "       2826, 2827, 2828, 2829, 2830, 2831, 2832, 2833, 2834, 2835, 2836,\n",
      "       2837, 2838, 2839, 2840, 2841, 2842, 2843, 2844, 2845, 2846, 2847,\n",
      "       2848, 2849, 2850, 2851, 2852, 2853, 2854, 2855, 2856, 2857, 2858,\n",
      "       2859, 2860, 2861, 2862, 2863, 2864, 2865, 2866, 2867, 2868, 2869,\n",
      "       2870, 2871, 2872, 2873, 2874, 2875, 2876, 2877, 2878, 2879, 2880,\n",
      "       2881, 2882, 2883, 2884, 2885, 2886, 2887, 2888, 2889, 2890, 2891,\n",
      "       2892, 2893, 2894, 2895, 2896, 2897, 2898, 2899, 2900, 2901, 2902,\n",
      "       2903, 2904, 2905, 2906, 2907, 2908, 2909, 2910, 2911, 2912, 2913,\n",
      "       2914, 2915, 2916, 2917, 2918, 2919, 2920, 2921, 2922, 2923, 2924,\n",
      "       2925, 2926, 2927, 2928, 2929, 2930, 2931, 2932, 2933, 2934, 2935,\n",
      "       2936, 2937, 2938, 2939, 2940, 2941, 2942, 2943, 2944, 2945, 2946,\n",
      "       2947, 2948, 2949, 2950, 2951, 2952, 2953, 2954, 2955, 2956, 2957,\n",
      "       2958, 2959, 2960, 2961, 2962, 2963, 2964, 2965, 2966, 2967, 2968,\n",
      "       2969, 2970, 2971, 2972, 2973, 2974, 2975, 2976, 2977, 2978, 2979,\n",
      "       2980, 2981, 2982, 2983, 2984, 2985, 2986, 2987, 2988, 2989, 2990,\n",
      "       2991, 2992, 2993, 2994, 2995, 2996, 2997, 2998, 2999, 3000, 3001,\n",
      "       3002, 3003, 3004, 3005, 3006, 3007, 3008, 3009, 3010, 3011, 3012,\n",
      "       3013, 3014, 3015, 3016, 3017, 3018, 3019, 3020, 3021, 3022, 3023,\n",
      "       3024, 3025, 3026, 3027, 3028, 3029, 3030, 3031, 3032, 3033, 3034,\n",
      "       3035, 3036, 3037, 3038, 3039, 3040, 3041, 3042, 3043, 3044, 3045,\n",
      "       3046, 3047, 3048, 3049, 3050, 3051, 3052, 3053, 3054, 3055, 3056,\n",
      "       3057, 3058, 3059, 3060, 3061, 3062, 3063, 3064, 3065, 3066, 3067,\n",
      "       3068, 3069, 3070, 3071, 3072, 3073, 3074, 3075, 3076, 3077, 3078,\n",
      "       3079, 3080, 3081, 3082, 3083, 3084, 3085, 3086, 3088, 3090, 3091,\n",
      "       3092, 3093, 3094, 3095], dtype=int64),)\n"
     ]
    }
   ],
   "source": [
    "def normalize_test(values, mean, std):\n",
    "    values -= mean\n",
    "    values /= std\n",
    "    return values\n",
    "\n",
    "\n",
    "df_test_value = (df_daily_jumpsup - training_mean) / training_std\n",
    "fig, ax = plt.subplots()\n",
    "df_test_value.plot(legend=False, ax=ax)\n",
    "plt.show()\n",
    "\n",
    "# Create sequences from test values.\n",
    "x_test = create_sequences(df_test_value.values)\n",
    "print(\"Test input shape: \", x_test.shape)\n",
    "def testdata_generete():\n",
    "    for i in x_test:\n",
    "        yield i\n",
    "\n",
    "\n",
    "#Get test MAE loss\n",
    "with fluid.dygraph.guard():\n",
    "    accs = []\n",
    "    model_dict, _ = fluid.load_dygraph('MyModel')\n",
    "    # model = MyDNN()\n",
    "    model=MyModel()\n",
    "    model.load_dict(model_dict) #加载模型参数\n",
    "    test_mae_loss=[]\n",
    "    testbatch_reader = fluid.io.batch(testdata_generete, batch_size=1)\n",
    "    for batch_id, data in enumerate(testbatch_reader()):\n",
    "        x_data = np.array(data).astype('float32')\n",
    "        x_data = fluid.dygraph.to_variable(x_data)\n",
    "        x_train_pred=model(x_data)\n",
    "        loss=fluid.layers.mse_loss(x_train_pred,x_data)\n",
    "        mae_loss=fluid.layers.mean(loss)#获取loss值\n",
    "        # train_mae_loss = np.mean(np.abs(x_train_pred - x_data), axis=1)\n",
    "        test_mae_loss.append(mae_loss.numpy()[0])\n",
    "        # print(train_mae_loss.numpy()[0])\n",
    "        # if batch_id%10==0:\n",
    "        #     print(\"batch:{} is ok\".format(batch_id))\n",
    "    test_mae_loss=np.array(test_mae_loss)\n",
    "# # Get test MAE loss.\n",
    "# x_test_pred = model.predict(x_test)\n",
    "# test_mae_loss = np.mean(np.abs(x_test_pred - x_test), axis=1)\n",
    "# test_mae_loss = test_mae_loss.reshape((-1))\n",
    "\n",
    "plt.hist(test_mae_loss, bins=50)\n",
    "plt.xlabel(\"test MAE loss\")\n",
    "plt.ylabel(\"No of samples\")\n",
    "plt.show()\n",
    "\n",
    "# Detect all the samples which are anomalies.\n",
    "anomalies = test_mae_loss > threshold\n",
    "print(\"Number of anomaly samples: \", np.sum(anomalies))\n",
    "print(\"Indices of anomaly samples: \", np.where(anomalies))"
   ]
  },
  {
   "cell_type": "markdown",
   "metadata": {},
   "source": [
    "### 绘制异常值图\n",
    "现在我们知道异常的数据样本。这样，我们将从timestamps原始测试数据中找到相应的内容。我们将使用以下方法来做到这一点：\n",
    "\n",
    "假设time_steps = 3，我们有10个训练值。我们x_train将如下所示：\n",
    "\n",
    "0 1 2\\\n",
    "1 2 3\\\n",
    "2 3 4\\\n",
    "3 4 5\\\n",
    "4 5 6\\\n",
    "5 6 7\\\n",
    "6 7 8\\\n",
    "7 8 9\\\n",
    "除初始和最终time_steps-1数据值外，所有其他值都将以time_steps样本数显示 。因此，如果我们知道样本[（3，4，5），（4，5，6），（5，6，7）]是异常，则可以说数据点5是异常。"
   ]
  },
  {
   "cell_type": "code",
   "execution_count": 17,
   "metadata": {},
   "outputs": [],
   "source": [
    "# data i is an anomaly if samples [(i - timesteps + 1) to (i)] are anomalies\n",
    "anomalous_data_indices = []\n",
    "for data_idx in range(TIME_STEPS - 1, len(df_test_value) - TIME_STEPS + 1):\n",
    "    if np.all(anomalies[data_idx - TIME_STEPS + 1 : data_idx]):\n",
    "        anomalous_data_indices.append(data_idx)"
   ]
  },
  {
   "cell_type": "code",
   "execution_count": 18,
   "metadata": {},
   "outputs": [
    {
     "data": {
      "image/png": "[encoded data removed]",
      "text/plain": [
       "<Figure size 432x288 with 1 Axes>"
      ]
     },
     "metadata": {
      "needs_background": "light"
     },
     "output_type": "display_data"
    }
   ],
   "source": [
    "df_subset = df_daily_jumpsup.iloc[anomalous_data_indices]\n",
    "fig, ax = plt.subplots()\n",
    "df_daily_jumpsup.plot(legend=False, ax=ax)\n",
    "df_subset.plot(legend=False, ax=ax, color=\"r\")\n",
    "plt.show()"
   ]
  },
  {
   "cell_type": "markdown",
   "metadata": {},
   "source": [
    "请点击[此处](https://ai.baidu.com/docs#/AIStudio_Project_Notebook/a38e5576)查看本环境基本用法.  <br>\n",
    "Please click [here ](https://ai.baidu.com/docs#/AIStudio_Project_Notebook/a38e5576) for more detailed instructions. "
   ]
  }
 ],
 "metadata": {
  "kernelspec": {
   "display_name": "Python 3",
   "language": "python",
   "name": "python3"
  },
  "language_info": {
   "codemirror_mode": {
    "name": "ipython",
    "version": 3
   },
   "file_extension": ".py",
   "mimetype": "text/x-python",
   "name": "python",
   "nbconvert_exporter": "python",
   "pygments_lexer": "ipython3",
   "version": "3.7.4"
  }
 },
 "nbformat": 4,
 "nbformat_minor": 1
}
